{
 "cells": [
  {
   "attachments": {},
   "cell_type": "markdown",
   "metadata": {},
   "source": [
    "### Введение в нейронные сети\n",
    "### Итоговая работа"
   ]
  },
  {
   "attachments": {},
   "cell_type": "markdown",
   "metadata": {},
   "source": [
    "Обучите нейронную сеть любой архитектуры."
   ]
  },
  {
   "cell_type": "code",
   "execution_count": 35,
   "metadata": {},
   "outputs": [],
   "source": [
    "import numpy as np\n",
    "import matplotlib.pyplot as plt\n",
    "import tensorflow as tf\n",
    "from tensorflow import keras\n",
    "from tensorflow.keras.layers import Conv2D, MaxPooling2D, Dropout, Flatten, Dense\n",
    "\n",
    "shape = 28\n",
    "def preprocess_images(imgs, shape=28):\n",
    "    sample_img = imgs if len(imgs.shape) == 2 else imgs[0]\n",
    "    assert sample_img.shape in [(shape, shape, 1), (shape, shape)], sample_img.shape # 28x28 и только 1 канал\n",
    "    return imgs / 255.0"
   ]
  },
  {
   "attachments": {},
   "cell_type": "markdown",
   "metadata": {},
   "source": [
    "### Подготовим данные"
   ]
  },
  {
   "cell_type": "code",
   "execution_count": 36,
   "metadata": {},
   "outputs": [],
   "source": [
    "(train_images, train_labels), (test_images, test_labels) = keras.datasets.mnist.load_data()\n",
    "\n",
    "train_images = train_images.reshape(train_images.shape[0], shape, shape, 1)\n",
    "test_images = test_images.reshape(test_images.shape[0], shape, shape, 1)\n",
    "\n",
    "train_images = preprocess_images(train_images, shape=shape)\n",
    "test_images = preprocess_images(test_images, shape=shape)"
   ]
  },
  {
   "attachments": {},
   "cell_type": "markdown",
   "metadata": {},
   "source": [
    "### Создаём слои модели"
   ]
  },
  {
   "cell_type": "code",
   "execution_count": 38,
   "metadata": {},
   "outputs": [],
   "source": [
    "model = keras.Sequential()\n",
    "model.add(Conv2D(32, kernel_size=(3, 3), activation='relu', input_shape=(shape, shape, 1)))\n",
    "model.add(Conv2D(64, (3, 3), activation='relu'))\n",
    "model.add(MaxPooling2D(pool_size=(2, 2)))\n",
    "model.add(Dropout(0.25))\n",
    "model.add(Flatten())\n",
    "model.add(Dense(128, activation='relu'))\n",
    "model.add(Dropout(0.5))\n",
    "model.add(Dense(10, activation='softmax'))\n",
    "\n",
    "model.compile(optimizer='adam', \n",
    "              loss='sparse_categorical_crossentropy',\n",
    "              metrics=['accuracy'])"
   ]
  },
  {
   "attachments": {},
   "cell_type": "markdown",
   "metadata": {},
   "source": [
    "### Тренируем модель"
   ]
  },
  {
   "cell_type": "code",
   "execution_count": 39,
   "metadata": {},
   "outputs": [
    {
     "name": "stdout",
     "output_type": "stream",
     "text": [
      "Epoch 1/10\n",
      "1875/1875 [==============================] - 119s 62ms/step - loss: 0.1906 - accuracy: 0.9420\n",
      "Epoch 2/10\n",
      "1875/1875 [==============================] - 116s 62ms/step - loss: 0.0814 - accuracy: 0.9746\n",
      "Epoch 3/10\n",
      "1875/1875 [==============================] - 135s 72ms/step - loss: 0.0597 - accuracy: 0.9817\n",
      "Epoch 4/10\n",
      "1875/1875 [==============================] - 130s 69ms/step - loss: 0.0494 - accuracy: 0.9846\n",
      "Epoch 5/10\n",
      "1875/1875 [==============================] - 129s 69ms/step - loss: 0.0434 - accuracy: 0.9864\n",
      "Epoch 6/10\n",
      "1875/1875 [==============================] - 129s 69ms/step - loss: 0.0361 - accuracy: 0.9880\n",
      "Epoch 7/10\n",
      "1875/1875 [==============================] - 128s 68ms/step - loss: 0.0333 - accuracy: 0.9894\n",
      "Epoch 8/10\n",
      "1875/1875 [==============================] - 130s 69ms/step - loss: 0.0284 - accuracy: 0.9911\n",
      "Epoch 9/10\n",
      "1875/1875 [==============================] - 129s 69ms/step - loss: 0.0277 - accuracy: 0.9913\n",
      "Epoch 10/10\n",
      "1875/1875 [==============================] - 130s 69ms/step - loss: 0.0239 - accuracy: 0.9920\n",
      "313/313 [==============================] - 4s 13ms/step - loss: 0.0256 - accuracy: 0.9929\n",
      "Точность: 0.992900013923645\n"
     ]
    }
   ],
   "source": [
    "model.fit(train_images, train_labels, epochs=10)\n",
    "\n",
    "test_loss, test_acc = model.evaluate(test_images, test_labels)\n",
    "\n",
    "print(f'Точность: {test_acc}')"
   ]
  },
  {
   "attachments": {},
   "cell_type": "markdown",
   "metadata": {},
   "source": [
    "### Делаем предсказания"
   ]
  },
  {
   "cell_type": "code",
   "execution_count": 44,
   "metadata": {},
   "outputs": [
    {
     "name": "stdout",
     "output_type": "stream",
     "text": [
      "313/313 [==============================] - 4s 13ms/step\n"
     ]
    },
    {
     "data": {
      "image/png": "[encoded data removed]",
      "text/plain": [
       "<Figure size 1000x1000 with 10 Axes>"
      ]
     },
     "metadata": {},
     "output_type": "display_data"
    }
   ],
   "source": [
    "preds = model.predict(test_images)\n",
    "\n",
    "plt.figure(figsize=[10, 10])\n",
    "\n",
    "for i in range(1, 11):\n",
    "    n = i-1\n",
    "    plt.subplot(2, 5, i)\n",
    "    plt.imshow(test_images[n].reshape(28, 28), cmap=plt.cm.binary)\n",
    "    plt.title(\"Пред: \" + str(np.argmax(preds[n], axis=0)), size=20)\n",
    "    plt.axis('off')\n",
    "\n",
    "plt.show()"
   ]
  }
 ],
 "metadata": {
  "kernelspec": {
   "display_name": "Python 3",
   "language": "python",
   "name": "python3"
  },
  "language_info": {
   "codemirror_mode": {
    "name": "ipython",
    "version": 3
   },
   "file_extension": ".py",
   "mimetype": "text/x-python",
   "name": "python",
   "nbconvert_exporter": "python",
   "pygments_lexer": "ipython3",
   "version": "3.10.6"
  },
  "orig_nbformat": 4
 },
 "nbformat": 4,
 "nbformat_minor": 2
}
